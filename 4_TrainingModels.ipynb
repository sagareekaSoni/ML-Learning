{
 "cells": [
  {
   "cell_type": "markdown",
   "metadata": {},
   "source": [
    "<h3> Linear Regression </h3>"
   ]
  },
  {
   "cell_type": "markdown",
   "metadata": {},
   "source": [
    "<h4>Linear regression model prediction</h4>\n",
    "\n",
    "$\\hat{Y} = \\hat{\\theta}_{0}+\\sum\\limits_{j=1}^{p}X_{j}\\hat{\\theta}_{j}$\n",
    "\n",
    "\n",
    "<li> $\\hat{Y}$ = predicted value\n",
    "\n",
    "<li> p = number of feature\n",
    "\n",
    "<li> $x_{j}$  = $j$th feature value\n",
    "\n",
    "<li> $\\hat{\\theta}_{0}$ = bias term\n",
    "\n",
    "<li> $\\hat{\\theta}_{1},\\hat{\\beta}_{2},... \\hat{\\theta}_{p}$ = feature weights \n",
    "    \n",
    "    \n",
    "<h4>Vectorized Form : </h4>\n",
    "  \n",
    "$\\hat{Y} = {h}_{\\theta}(X) ={\\theta}^T.{X}$  \n",
    "\n",
    "\n",
    "<li> ${\\theta}$ is the model’s parameter vector, containing the bias term ${\\theta}_{0}$ and the feature weights ${\\theta}_{1}$ to ${\\theta}_{n}$\n",
    "<li> ${\\theta}^T$ is the transpose of ${\\theta}$ (a row vector instead of a column vector).\n",
    "<li> X is the instance’s feature vector, containing ${x}_{0}$ to ${x}_{n}$ , with  ${x}_{0}$ always equal to 1.\n",
    "<li> ${\\theta}^T·{X}$ is the dot product\n",
    "<li> ${h}_{\\theta}$ is the hypothesis function, using the model parameters ${\\theta}$.\n",
    "    \n",
    "    \n",
    "<h4>Cost Function</h4>    \n",
    "\n",
    "${MSE}({X},{h}_{\\theta})=(\\frac{1}{m})\\sum_{i=1}^{m}({\\theta}^T x^i - y^i )^{2}$\n",
    "    \n",
    "<h4> Normal Equation </h4>    \n",
    "    \n",
    "$\\hat{\\theta} = (X^TX)^{-1} X^Ty$   \n",
    "\n",
    "<li> $\\hat{\\theta}$  is the value of ${\\theta}$  that minimizes the cost function.\n",
    "<li> y is the vector of target values containing ${y}^1 to {y}^m$\n"
   ]
  },
  {
   "cell_type": "code",
   "execution_count": 1,
   "metadata": {},
   "outputs": [],
   "source": [
    "#To plot pretty figures\n",
    "%matplotlib inline\n",
    "import matplotlib as mpl\n",
    "import matplotlib.pyplot as plt"
   ]
  },
  {
   "cell_type": "markdown",
   "metadata": {},
   "source": [
    "<h3>Linear Regression with Normal Equation"
   ]
  },
  {
   "cell_type": "code",
   "execution_count": 2,
   "metadata": {},
   "outputs": [],
   "source": [
    "import numpy as np\n",
    "np.random.seed(42)\n",
    "x= 2*np.random.rand(100,1)\n",
    "y= 4+3*x+np.random.randn(100,1)"
   ]
  },
  {
   "cell_type": "code",
   "execution_count": 3,
   "metadata": {},
   "outputs": [
    {
     "data": {
      "image/png": "[encoded data removed]",
      "text/plain": [
       "<Figure size 432x288 with 1 Axes>"
      ]
     },
     "metadata": {
      "needs_background": "light"
     },
     "output_type": "display_data"
    }
   ],
   "source": [
    "plt.plot(x, y, \"b.\")\n",
    "plt.xlabel(\"$x_1$\", fontsize=18)\n",
    "plt.ylabel(\"$y$\", rotation=0, fontsize=18)\n",
    "plt.axis([0, 2, 0, 15])\n",
    "plt.show()"
   ]
  },
  {
   "cell_type": "code",
   "execution_count": 4,
   "metadata": {},
   "outputs": [
    {
     "data": {
      "text/plain": [
       "array([[4.21509616],\n",
       "       [2.77011339]])"
      ]
     },
     "execution_count": 4,
     "metadata": {},
     "output_type": "execute_result"
    }
   ],
   "source": [
    "x_b = np.c_[np.ones((100,1)),x]\n",
    "theta_best = np.linalg.inv(x_b.T.dot(x_b)).dot(x_b.T).dot(y)\n",
    "theta_best"
   ]
  },
  {
   "cell_type": "code",
   "execution_count": 5,
   "metadata": {},
   "outputs": [
    {
     "data": {
      "text/plain": [
       "array([[4.21509616],\n",
       "       [9.75532293]])"
      ]
     },
     "execution_count": 5,
     "metadata": {},
     "output_type": "execute_result"
    }
   ],
   "source": [
    "x_new = np.array([[0], [2]])\n",
    "x_new_b = np.c_[np.ones((2, 1)), x_new]  # add x0 = 1 to each instance\n",
    "y_predict = x_new_b.dot(theta_best)\n",
    "y_predict"
   ]
  },
  {
   "cell_type": "code",
   "execution_count": 6,
   "metadata": {},
   "outputs": [
    {
     "data": {
      "image/png": "[encoded data removed]",
      "text/plain": [
       "<Figure size 432x288 with 1 Axes>"
      ]
     },
     "metadata": {
      "needs_background": "light"
     },
     "output_type": "display_data"
    }
   ],
   "source": [
    "plt.plot(x_new, y_predict, \"r-\")\n",
    "plt.plot(x, y, \"b.\")\n",
    "plt.axis([0, 2, 0, 15])\n",
    "plt.show()"
   ]
  },
  {
   "cell_type": "code",
   "execution_count": 7,
   "metadata": {},
   "outputs": [
    {
     "data": {
      "text/plain": [
       "(array([4.21509616]), array([[2.77011339]]))"
      ]
     },
     "execution_count": 7,
     "metadata": {},
     "output_type": "execute_result"
    }
   ],
   "source": [
    "from sklearn.linear_model import LinearRegression\n",
    "lin_reg = LinearRegression()\n",
    "lin_reg.fit(x, y)\n",
    "lin_reg.intercept_, lin_reg.coef_"
   ]
  },
  {
   "cell_type": "markdown",
   "metadata": {},
   "source": [
    "<h4>Singular Value Decomposition </h4>\n",
    " \n",
    " That can decompose the training set matrix X into the matrix multiplication of three matrix $U\\Sigma V^{T}$ "
   ]
  },
  {
   "cell_type": "markdown",
   "metadata": {},
   "source": [
    "<h3>Gradient Descent</h3>\n",
    "Gradient descent is a first-order iterative optimization algorithm for finding a local minimum of a differentiable function.\n",
    "It's based on a convex function and tweaks its parameters iteratively to minimize a given function to its local minimum.\n",
    "\n",
    "<h4>Learning Rate</h4>\n",
    "How big the steps are gradient descent takes into the direction of the local minimum are determined by the learning rate, which figures out how fast or slow we will move towards the optimal weights.\n",
    "\n",
    "\n",
    "</h4>Types of Gradient Descent</h4>\n",
    "There are three popular types of gradient descent that mainly differ in the amount of data they use: \n",
    "\n",
    "<h5>BATCH GRADIENT DESCENT</h5>\n",
    "Batch gradient descent, also called vanilla gradient descent, calculates the error for each example within the training dataset, but only after all training examples have been evaluated does the model get updated. \n",
    "\n",
    "<h5>STOCHASTIC GRADIENT DESCENT</h5>\n",
    "Stochastic gradient descent (SGD) does this for each training example within the dataset, meaning it updates the parameters for each training example one by one. One advantage is the frequent updates allow us to have a pretty detailed rate of improvement.\n",
    "The frequent updates, however, are more computationally expensive than the batch gradient descent approach. Additionally, the frequency of those updates can result in noisy gradients, which may cause the error rate to jump around instead of slowly decreasing.\n",
    "\n",
    "<h5>MINI-BATCH GRADIENT DESCENT</h5>\n",
    "Mini-batch gradient descent is the go-to method since it’s a combination of the concepts of SGD and batch gradient descent. It simply splits the training dataset into small batches and performs an update for each of those batches. This creates a balance between the robustness of stochastic gradient descent and the efficiency of batch gradient descent.\n",
    "\n",
    "<h4>Linear regression using batch gradient descent</h4>\n",
    "\n",
    "${\\beta}^{(next step)} = {\\beta} - learningRate*Error$"
   ]
  },
  {
   "cell_type": "markdown",
   "metadata": {},
   "source": [
    "<h3> Polynomial Regression</h3>"
   ]
  },
  {
   "cell_type": "code",
   "execution_count": 8,
   "metadata": {},
   "outputs": [
    {
     "data": {
      "image/png": "[encoded data removed]",
      "text/plain": [
       "<Figure size 432x288 with 1 Axes>"
      ]
     },
     "metadata": {
      "needs_background": "light"
     },
     "output_type": "display_data"
    }
   ],
   "source": [
    "x= 6*np.random.rand(100,1)-3\n",
    "y= 0.5*x**2+x+2+np.random.randn(100,1)\n",
    "\n",
    "plt.plot(x,y,\"b.\")\n",
    "plt.xlabel(\"$x_1$\", fontsize=18)\n",
    "plt.ylabel(\"$y$\", rotation=0, fontsize=18)\n",
    "plt.show()"
   ]
  },
  {
   "cell_type": "code",
   "execution_count": 9,
   "metadata": {},
   "outputs": [
    {
     "data": {
      "text/plain": [
       "(array([[1.04630034, 0.5015459 ]]), array([1.99958228]))"
      ]
     },
     "execution_count": 9,
     "metadata": {},
     "output_type": "execute_result"
    }
   ],
   "source": [
    "from sklearn.preprocessing import PolynomialFeatures\n",
    "\n",
    "poly_features= PolynomialFeatures(degree=2,include_bias=False)\n",
    "x_poly = poly_features.fit_transform(x)\n",
    "\n",
    "lin_reg = LinearRegression()\n",
    "lin_reg.fit(x_poly, y)\n",
    " \n",
    "lin_reg.coef_,lin_reg.intercept_"
   ]
  },
  {
   "cell_type": "code",
   "execution_count": 10,
   "metadata": {},
   "outputs": [
    {
     "data": {
      "image/png": "[encoded data removed]",
      "text/plain": [
       "<Figure size 432x288 with 1 Axes>"
      ]
     },
     "metadata": {
      "needs_background": "light"
     },
     "output_type": "display_data"
    }
   ],
   "source": [
    "plt.scatter(x, y)\n",
    "plt.plot(x,lin_reg.predict(x_poly),\".\" , linewidth=2, label=\"Predictions\",color=\"r\")\n",
    "plt.show()"
   ]
  },
  {
   "cell_type": "markdown",
   "metadata": {},
   "source": [
    "Mean Square Error"
   ]
  },
  {
   "cell_type": "code",
   "execution_count": 11,
   "metadata": {},
   "outputs": [
    {
     "data": {
      "image/png": "[encoded data removed]",
      "text/plain": [
       "<Figure size 432x288 with 1 Axes>"
      ]
     },
     "metadata": {
      "needs_background": "light"
     },
     "output_type": "display_data"
    }
   ],
   "source": [
    "from sklearn.metrics import mean_squared_error\n",
    "from sklearn.model_selection import train_test_split\n",
    "\n",
    "lin_reg = LinearRegression()\n",
    "\n",
    "x_train, x_test, y_train, y_test = train_test_split(x, y, test_size=0.2, random_state=5)\n",
    "\n",
    "train_errors, test_errors = [], []\n",
    "for m in range(1,len(x_train)):\n",
    "    lin_reg.fit(x_train[:m], y_train[:m])\n",
    "    y_train_predict = lin_reg.predict(x_train[:m])\n",
    "    y_test_predict = lin_reg.predict(x_test)\n",
    "    train_errors.append(np.sqrt(mean_squared_error(y_train[:m], y_train_predict)))\n",
    "    test_errors.append(np.sqrt(mean_squared_error(y_test, y_test_predict)))\n",
    "\n",
    "plt.plot(train_errors, \"r-+\", linewidth=2, label=\"train\")\n",
    "plt.plot(test_errors, \"b-\", linewidth=3, label=\"test\")\n",
    "plt.legend(loc=\"upper right\", fontsize=14)   # not shown in the book\n",
    "plt.xlabel(\"Training set size\", fontsize=14) # not shown\n",
    "plt.ylabel(\"RMSE\", fontsize=14) \n",
    "plt.show()"
   ]
  },
  {
   "cell_type": "markdown",
   "metadata": {},
   "source": [
    "when there are just one or two instances in the training set, the model can fit them perfectly, which is why the curve starts at zero. But as new instances are added to the training set, it becomes impossible for the model to fit the\n",
    "training data perfectly, both because the data is noisy and because it is not linear at all. \n",
    "\n",
    "The error on the training data goes up until it reaches a plateau, at which point adding new instances to the training set\n",
    "doesn’t make the average error much better or worse\n",
    "\n",
    " We can try higher degree linear regression , which might help on to reduce the error  "
   ]
  },
  {
   "cell_type": "markdown",
   "metadata": {},
   "source": [
    "<h4>THE BIAS/VARIANCE TRADEOFF </h4>\n",
    "\n",
    "<h5>Bias</h5>\n",
    "This part of the generalization error is due to wrong assumptions, such as assuming that the data is linear when it is actually quadratic. A high-bias model is most likely to underfit the training data.\n",
    "<h5>Variance</h5>\n",
    "This part is due to the model’s excessive sensitivity to small variations in the training data. A model with many degrees of freedom(such as a high-degree polynomial model) is likely to have high variance, and thus to overfit the training data.\n",
    "<h5>Irreducible error</h5>\n",
    "This part is due to the noisiness of the data itself. The only way to reduce this part of the error is to clean up the data \n",
    "\n",
    "Increasing a model’s complexity will typically increase its variance and reduce its bias. Conversely, reducing a model’s complexity increases its bias and reduces its variance. This is why it is called a <b>tradeof</b>"
   ]
  },
  {
   "cell_type": "markdown",
   "metadata": {},
   "source": [
    "<h4>Regularized Linear Models</h4>\n",
    " A method to constrains/ regularizes or shrinks the coefficient estimates towards zero. In other words, this technique discourages learning a more complex or flexible model, so as to avoid the risk of overfitting.this is typically achieved by constraining the weights of the models. \n",
    " \n",
    " Few Types of Regularized Regresssion:\n",
    " \n",
    " <b>Ridge Regression</b>\n",
    "    \n",
    " Cost function : \n",
    " \n",
    " ${J}({\\theta}) = {MSE}({\\theta}) +{\\alpha}{\\frac{1}{2}}{\\sum}_{i=1}^{n}{\\theta}_{i}^{2}$ \n",
    "    \n",
    "  <li>the bias term ${\\theta}_0$ is not regularized (the sum starts at i = 1, not ${\\theta}$).  \n",
    "  <li>the ℓ2 norm of the weight vector  \n",
    "    \n",
    "    \n"
   ]
  },
  {
   "cell_type": "code",
   "execution_count": 12,
   "metadata": {},
   "outputs": [
    {
     "data": {
      "text/plain": [
       "array([[1.73690106]])"
      ]
     },
     "execution_count": 12,
     "metadata": {},
     "output_type": "execute_result"
    }
   ],
   "source": [
    "np.random.seed(42)\n",
    "X = 3 * np.random.rand(100, 1)\n",
    "y = 1 + 0.5 * X + np.random.randn(100, 1) / 1.5\n",
    "\n",
    "from sklearn.linear_model import Ridge\n",
    "ridge_reg = Ridge(alpha=1, solver=\"cholesky\", random_state=42)\n",
    "ridge_reg.fit(x, y)\n",
    "ridge_reg.predict([[1.5]])"
   ]
  },
  {
   "cell_type": "markdown",
   "metadata": {},
   "source": [
    "<b>Lasso Regression </b>\n",
    "     \n",
    "Least Absolute Shrinkage and Selection Operator Regression (simply called Lasso Regression) is another regularized version of Linear Regression: just like Ridge Regression, it adds a regularization term to the cost function, but it uses the ℓ1 norm of the weight vector instead of half the square of the ℓ2 norm \n",
    "     \n",
    "<b>Cost Function</b> \n",
    "\n",
    "${J}({\\theta}) = {MSE}({\\theta}) +{\\alpha}{\\sum}_{i=1}^{n}|{\\theta}_{i}|$ "
   ]
  },
  {
   "cell_type": "code",
   "execution_count": 13,
   "metadata": {},
   "outputs": [
    {
     "data": {
      "text/plain": [
       "array([1.70455087])"
      ]
     },
     "execution_count": 13,
     "metadata": {},
     "output_type": "execute_result"
    }
   ],
   "source": [
    "from sklearn.linear_model import Lasso\n",
    "lasso_reg = Lasso(alpha=0.1)\n",
    "lasso_reg.fit(x, y)\n",
    "lasso_reg.predict([[1.5]])"
   ]
  },
  {
   "cell_type": "markdown",
   "metadata": {},
   "source": [
    "<b>ELastic Net</b>  \n",
    "\n",
    "Elastic Net is a middle ground between Ridge Regression and Lasso Regression. The regularization term is a simple mix of both Ridge and Lasso’s regularization terms, and you can control the mix ratio r. When r = 0, Elastic Net is equivalent to Ridge Regression, and when r = 1, it is equivalent to Lasso Regression\n",
    "\n",
    "${J}({\\theta}) = {MSE}({\\theta}) + r{\\alpha}{\\sum}_{i=1}^{n}|{\\theta}_{i}| + {\\frac{1-r}{2}} {\\alpha}{\\sum}_{i=1}^{n}{\\theta}_i^2 $ "
   ]
  },
  {
   "cell_type": "markdown",
   "metadata": {},
   "source": [
    "Ridge is a good default, but if you suspect that only a few featuresare actually useful, you should prefer Lasso or Elastic Net since they tend to reduce the useless features'weights down to zero as we have discussed. \n",
    "\n",
    "In general, Elastic Net is preferred over Lasso since Lasso may behave erratically when the number of features is greater than the number of training instances or when several features are strongly correlated.\n"
   ]
  },
  {
   "cell_type": "code",
   "execution_count": 14,
   "metadata": {},
   "outputs": [
    {
     "data": {
      "text/plain": [
       "array([1.71429802])"
      ]
     },
     "execution_count": 14,
     "metadata": {},
     "output_type": "execute_result"
    }
   ],
   "source": [
    "from sklearn.linear_model import ElasticNet\n",
    "elastic_net = ElasticNet(alpha=0.1, l1_ratio=0.5, random_state=42)\n",
    "elastic_net.fit(x, y)\n",
    "elastic_net.predict([[1.5]])"
   ]
  },
  {
   "cell_type": "markdown",
   "metadata": {},
   "source": [
    "<h3>Early Stopping </h3>\n",
    "\n",
    "Stopping training as soon as the validation error reaches a minimum. This is early stopping \n",
    "\n"
   ]
  },
  {
   "cell_type": "markdown",
   "metadata": {},
   "source": [
    "<h3> Logistic regression </h3>\n",
    "\n",
    "<b>Estimating Probabilities</b>\n",
    "\n",
    "this model computes a weighted sum of input features(plue a bias term).\n",
    "\n",
    "$\\hat{p} = {h}_{\\theta}(x) = \\sigma(x^T{\\theta})$\n",
    "\n",
    "$\\sigma(.)$ is a sigmoid function and output number between 0 and 1.\n",
    "\n",
    "eq:- logistic function  $\\sigma(t) = \\frac{1}{1+e^{-t}}$\n",
    "\n",
    "\n",
    "$\\hat{y} = \n",
    "  \\begin{cases}\n",
    "    0 &\\text{if }\\hat{p} <0.5 \\\\\n",
    "    1 &\\text{if }\\hat{p} >0.5 \n",
    "  \\end{cases}$\n",
    "  \n",
    "  \n",
    "If $\\sigma(t)$ < 0.5 when t < 0 \n",
    "   $\\sigma(t)$ > 0.5 when t >= 0 \n",
    "  so a logistic regression model predicts 1 if $x^T{\\theta}$    is positive and 0 if it is negative\n",
    "  \n",
    "  \n",
    "<b>logistic regression cost function</b>  \n",
    "\n",
    "${J}({\\theta}) = -\\frac{1}{m}{\\sum}_{i=1}^{m}[y^{(i)}{log}(\\hat{p}^{(i)})+ (1-y^{(i)}){log}(1-\\hat{p}^{(i)})]$  \n",
    "\n",
    "\n",
    "<b> logistic cost function partial derivatives </b>\n",
    "\n",
    "\n",
    "$\\frac{\\partial}{\\partial{\\theta}_j} J{\\theta} = \\frac{1}{m}{\\sum}_{i=1}^{m}(\\sigma({\\theta}^Tx^{(i)})-y^{(i)}){x}_j^{(i)}$  \n"
   ]
  },
  {
   "cell_type": "markdown",
   "metadata": {},
   "source": [
    "<h3> Decision Boundary</h3>"
   ]
  },
  {
   "cell_type": "code",
   "execution_count": 15,
   "metadata": {},
   "outputs": [],
   "source": [
    "\n",
    "from sklearn import datasets\n",
    "iris = datasets.load_iris()\n",
    "\n",
    "X = iris[\"data\"][:, 3:]  # petal width\n",
    "y = (iris[\"target\"] == 2).astype(np.int) # 1 if virginica, else 0"
   ]
  },
  {
   "cell_type": "code",
   "execution_count": 16,
   "metadata": {},
   "outputs": [
    {
     "data": {
      "text/plain": [
       "LogisticRegression(random_state=42)"
      ]
     },
     "execution_count": 16,
     "metadata": {},
     "output_type": "execute_result"
    }
   ],
   "source": [
    "from sklearn.linear_model import LogisticRegression\n",
    "log_reg = LogisticRegression(solver=\"lbfgs\", random_state=42)\n",
    "log_reg.fit(X, y)"
   ]
  },
  {
   "cell_type": "code",
   "execution_count": 17,
   "metadata": {},
   "outputs": [
    {
     "data": {
      "image/png": "[encoded data removed]",
      "text/plain": [
       "<Figure size 576x216 with 1 Axes>"
      ]
     },
     "metadata": {
      "needs_background": "light"
     },
     "output_type": "display_data"
    }
   ],
   "source": [
    "X_new = np.linspace(0, 3, 150).reshape(-1, 1)\n",
    "y_proba = log_reg.predict_proba(X_new)\n",
    "decision_boundary = X_new[y_proba[:, 1] >= 0.5][0]\n",
    "\n",
    "plt.figure(figsize=(8, 3))\n",
    "plt.plot(X_new, y_proba[:, 1], \"g-\", linewidth=2, label=\"Iris virginica\")\n",
    "plt.plot(X_new, y_proba[:, 0], \"b--\", linewidth=2, label=\"Not Iris virginica\")\n",
    "plt.plot([decision_boundary, decision_boundary], [0, 1], \"k:\", linewidth=2)\n",
    "plt.legend(loc=\"center left\", fontsize=14)\n",
    "plt.show()\n",
    "\n"
   ]
  },
  {
   "cell_type": "markdown",
   "metadata": {},
   "source": [
    "<h3>Softmax Regression</h3>\n",
    "\n",
    "Multiclass Logistic Regression also known as Softmax Regression or Multinomial Logistic Regression\n",
    "\n",
    "\n",
    "when given an instance x, the Softmax Regression model first computes a score $s_k(x)$ for each class k, then estimates the probability of each class by applying the softmax function (also called the normalized exponential) to the scores.\n",
    "\n",
    "\n",
    "<b>Softmax score for class k</b>\n",
    "\n",
    "$s_k(x) = x^T{\\theta}^{(k)}$\n",
    "\n",
    "\n",
    "<b>Softmax Function</b>\n",
    "\n",
    "$\\hat{p}_k = \\sigma(s(x))_k = \\frac{\\text{exp }(s_k(x))}{{\\sum}_{j=1}^{K} \\text{exp }(s_j(x))}$"
   ]
  },
  {
   "cell_type": "code",
   "execution_count": null,
   "metadata": {},
   "outputs": [],
   "source": []
  }
 ],
 "metadata": {
  "kernelspec": {
   "display_name": "Python 3",
   "language": "python",
   "name": "python3"
  },
  "language_info": {
   "codemirror_mode": {
    "name": "ipython",
    "version": 3
   },
   "file_extension": ".py",
   "mimetype": "text/x-python",
   "name": "python",
   "nbconvert_exporter": "python",
   "pygments_lexer": "ipython3",
   "version": "3.8.3"
  }
 },
 "nbformat": 4,
 "nbformat_minor": 4
}
