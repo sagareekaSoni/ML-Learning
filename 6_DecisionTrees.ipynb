{
 "cells": [
  {
   "cell_type": "markdown",
   "metadata": {},
   "source": [
    "Decision Tree algorithm belongs to the family of supervised learning algorithms and non linear. Unlike other supervised learning algorithms, the decision tree algorithm can be used for solving regression and classification problems too.\n",
    "\n",
    "Top-Down,Greedy, Recursive, Partitioning\n",
    "\n",
    "<b>Method:</b> CART \n",
    "\n",
    "\n",
    "Metrics for algorithm:-\n",
    "<li><b>Gini Impurity</b> measure of how a randomly chosen element is incorrectly labelled if it was randomly labelled according to its subset distribution    \n",
    "<li><b>Information Entropy(IE):</b> No of bits required in encoding the given data \n",
    "<li><b>Variance reduction:</b> Reduction in variance in target variable duce to a split\n",
    "    \n",
    "<br>\n",
    "    \n",
    "<b>Classification Error Rate</b>   \n",
    "$E = 1- max_{k}(\\hat{p}_{mk})$\n",
    "\n",
    "$(\\hat{p}_{mk})$ represents the prop of training observations in the mth region that are from <i>Kth<i> class.   \n",
    "    \n",
    "classification error is not sufficiently sensitive for tree- growing, and in practice two other measures are preferable.     \n",
    "<BR>    \n",
    "<b>Gini Impurity</b>    \n",
    "${G}_{i} = 1 - \\sum\\limits_{k=1}^{n} {P}_{i,k}^{2}$   \n",
    "    \n",
    "measure of total variance across the K is classes.        \n",
    "<br>    \n",
    "<b>Cross Entropy</b> \n",
    "\n",
    "Alternative to GI   \n",
    "\n",
    "$D= - \\sum\\limits_{k-1}^{k} \\hat{p}_{mk}log\\hat{p}_{mk}$ \n",
    "    \n",
    "    \n",
    "<b>Gini split index</b>    \n",
    "${G}_{i}- {p}_i * {G}_{i1} - {p}_i * {G}_{i2}$    "
   ]
  },
  {
   "cell_type": "code",
   "execution_count": 5,
   "metadata": {},
   "outputs": [],
   "source": [
    "from sklearn.datasets  import load_iris\n",
    "from sklearn.tree import DecisionTreeClassifier\n",
    "\n",
    "from sklearn.tree import export_graphviz"
   ]
  },
  {
   "cell_type": "code",
   "execution_count": 2,
   "metadata": {},
   "outputs": [],
   "source": [
    "iris = load_iris()\n",
    "X= iris.data[:,2:]\n",
    "y= iris.target"
   ]
  },
  {
   "cell_type": "code",
   "execution_count": 3,
   "metadata": {},
   "outputs": [
    {
     "data": {
      "text/plain": [
       "DecisionTreeClassifier(max_depth=2)"
      ]
     },
     "execution_count": 3,
     "metadata": {},
     "output_type": "execute_result"
    }
   ],
   "source": [
    "tree_clf = DecisionTreeClassifier(max_depth=2)\n",
    "tree_clf.fit(X,y)"
   ]
  },
  {
   "cell_type": "code",
   "execution_count": 12,
   "metadata": {},
   "outputs": [
    {
     "data": {
      "text/plain": [
       "array([[0.        , 0.90740741, 0.09259259]])"
      ]
     },
     "execution_count": 12,
     "metadata": {},
     "output_type": "execute_result"
    }
   ],
   "source": [
    "tree_clf.predict_proba([[5,1.5]])"
   ]
  },
  {
   "cell_type": "code",
   "execution_count": 13,
   "metadata": {},
   "outputs": [
    {
     "data": {
      "text/plain": [
       "array([1])"
      ]
     },
     "execution_count": 13,
     "metadata": {},
     "output_type": "execute_result"
    }
   ],
   "source": [
    "tree_clf.predict([[5,1.5]])"
   ]
  },
  {
   "cell_type": "markdown",
   "metadata": {},
   "source": [
    "<h3>CART Algorithm</h3>\n",
    "    \n",
    "Algo first split the training set into subsets using single feature k and a threshold $t_k$  \n",
    "\n",
    "$J(k,t_k)= \\frac{m_{left}}{m} G_{left} + \\frac{m_{right}}{m} G_{right}$\n"
   ]
  },
  {
   "cell_type": "code",
   "execution_count": null,
   "metadata": {},
   "outputs": [],
   "source": []
  }
 ],
 "metadata": {
  "kernelspec": {
   "display_name": "Python 3",
   "language": "python",
   "name": "python3"
  },
  "language_info": {
   "codemirror_mode": {
    "name": "ipython",
    "version": 3
   },
   "file_extension": ".py",
   "mimetype": "text/x-python",
   "name": "python",
   "nbconvert_exporter": "python",
   "pygments_lexer": "ipython3",
   "version": "3.8.3"
  }
 },
 "nbformat": 4,
 "nbformat_minor": 4
}
